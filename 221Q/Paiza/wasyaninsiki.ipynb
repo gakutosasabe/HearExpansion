{
 "cells": [
  {
   "cell_type": "code",
   "execution_count": 2,
   "id": "c80e51dc",
   "metadata": {},
   "outputs": [],
   "source": [
    "import numpy as np\n",
    "import matplotlib.pyplot as plt\n",
    "import random\n",
    "from sklearn import svm\n",
    "\n",
    "#座標を作る\n",
    "N = 15\n",
    "random.seed(11813)\n",
    "train_X = np.array([[random.randint(0,100), random.randint(0,100)]for i in range(N)])"
   ]
  },
  {
   "cell_type": "code",
   "execution_count": 3,
   "id": "c9c60989",
   "metadata": {},
   "outputs": [
    {
     "data": {
      "text/plain": [
       "array([[ 46, 100],\n",
       "       [ 93,  58],\n",
       "       [ 82,  90],\n",
       "       [ 97,  67],\n",
       "       [ 95,  53],\n",
       "       [ 79,  30],\n",
       "       [ 72,  18],\n",
       "       [  6,  47],\n",
       "       [ 28,  26],\n",
       "       [ 23,  26],\n",
       "       [ 44,  80],\n",
       "       [ 60,  17],\n",
       "       [  3,  18],\n",
       "       [ 14,  62],\n",
       "       [ 45,  86]])"
      ]
     },
     "execution_count": 3,
     "metadata": {},
     "output_type": "execute_result"
    }
   ],
   "source": [
    "train_X"
   ]
  },
  {
   "cell_type": "code",
   "execution_count": 5,
   "id": "2fa30ae6",
   "metadata": {},
   "outputs": [
    {
     "data": {
      "image/png": "[encoded data removed]",
      "text/plain": [
       "<Figure size 432x288 with 1 Axes>"
      ]
     },
     "metadata": {
      "needs_background": "light"
     },
     "output_type": "display_data"
    }
   ],
   "source": [
    "#描画する\n",
    "for i in range(len(train_X)): #10まで順番に\n",
    "    plt.plot(train_X[i][0], train_X[i][1], 'o', color = 'blue')\n",
    "    plt.annotate(i, (train_X[i][0], train_X[i][1]), size = 20)"
   ]
  },
  {
   "cell_type": "code",
   "execution_count": 9,
   "id": "753cd851",
   "metadata": {},
   "outputs": [],
   "source": [
    "# 手で分類する\n",
    "train_y = np.array([0 for i in range(N)])\n",
    "train_y[2] = train_y[1] = train_y[3] = train_y[4] = train_y[5] = train_y[6] = train_y[11] = 1"
   ]
  },
  {
   "cell_type": "code",
   "execution_count": 10,
   "id": "9685b201",
   "metadata": {},
   "outputs": [
    {
     "data": {
      "image/png": "[encoded data removed]",
      "text/plain": [
       "<Figure size 432x288 with 1 Axes>"
      ]
     },
     "metadata": {
      "needs_background": "light"
     },
     "output_type": "display_data"
    }
   ],
   "source": [
    "# 分類したものを描画する\n",
    "colors = ['blue', 'red']\n",
    "for i in range(len(train_X)):\n",
    "    plt.plot(train_X[i][0], train_X[i][1], 'o', color = colors[train_y[i]])\n",
    "    plt.annotate(i, (train_X[i][0], train_X[i][1]), size=20)"
   ]
  },
  {
   "cell_type": "code",
   "execution_count": null,
   "id": "0cba09da",
   "metadata": {},
   "outputs": [],
   "source": [
    "# 分類したものを描画する\n",
    "colors = ['blue', 'red']\n",
    "for i in range(len(train_X)):\n",
    "    plt.plot(train_X[i][0], train_X[i][1], 'o', color = colors[train_y[i]])\n",
    "    plt.annotate(i, (train_X[i][0], train_X[i][1]), size=20)\n",
    "    \n",
    "# テストデータ，0か1かどっちだろう？\n",
    "test_X = np.array([[30, 60]])\n",
    "\n",
    "# test_Xを描画する\n",
    "plt.plot()"
   ]
  }
 ],
 "metadata": {
  "kernelspec": {
   "display_name": "Environment (conda_py39)",
   "language": "python",
   "name": "conda_py39"
  },
  "language_info": {
   "codemirror_mode": {
    "name": "ipython",
    "version": 3
   },
   "file_extension": ".py",
   "mimetype": "text/x-python",
   "name": "python",
   "nbconvert_exporter": "python",
   "pygments_lexer": "ipython3",
   "version": "3.9.12"
  }
 },
 "nbformat": 4,
 "nbformat_minor": 5
}
